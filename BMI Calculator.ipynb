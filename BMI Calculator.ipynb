{
 "cells": [
  {
   "cell_type": "code",
   "execution_count": 3,
   "id": "a8cdc736",
   "metadata": {},
   "outputs": [],
   "source": [
    "args_tuple=(5,9,6,2,3,1)\n",
    "def num_args(*number):\n",
    "    print(number[0]*number[1])"
   ]
  },
  {
   "cell_type": "code",
   "execution_count": 6,
   "id": "4e265e31",
   "metadata": {},
   "outputs": [
    {
     "name": "stdout",
     "output_type": "stream",
     "text": [
      "45\n"
     ]
    }
   ],
   "source": [
    "num_args(*args_tuple)"
   ]
  },
  {
   "cell_type": "markdown",
   "id": "92e2c02a",
   "metadata": {},
   "source": [
    "num_itr = 7"
   ]
  },
  {
   "cell_type": "code",
   "execution_count": 7,
   "id": "e80ef76f",
   "metadata": {},
   "outputs": [],
   "source": [
    "num_itr = 7"
   ]
  },
  {
   "cell_type": "code",
   "execution_count": 12,
   "id": "aca5b43b",
   "metadata": {},
   "outputs": [],
   "source": [
    "num_str = '7'"
   ]
  },
  {
   "cell_type": "code",
   "execution_count": 18,
   "id": "c8510bbb",
   "metadata": {},
   "outputs": [
    {
     "ename": "TypeError",
     "evalue": "unsupported operand type(s) for +: 'int' and 'str'",
     "output_type": "error",
     "traceback": [
      "\u001b[1;31m---------------------------------------------------------------------------\u001b[0m",
      "\u001b[1;31mTypeError\u001b[0m                                 Traceback (most recent call last)",
      "Cell \u001b[1;32mIn[18], line 1\u001b[0m\n\u001b[1;32m----> 1\u001b[0m num \u001b[38;5;241m=\u001b[39m num_itr \u001b[38;5;241m+\u001b[39m num_str\n",
      "\u001b[1;31mTypeError\u001b[0m: unsupported operand type(s) for +: 'int' and 'str'"
     ]
    }
   ],
   "source": [
    "num = num_itr + num_str"
   ]
  },
  {
   "cell_type": "code",
   "execution_count": 21,
   "id": "3c4be19c",
   "metadata": {},
   "outputs": [],
   "source": [
    "num=int(num_str)"
   ]
  },
  {
   "cell_type": "code",
   "execution_count": 22,
   "id": "b9c30f82",
   "metadata": {},
   "outputs": [],
   "source": [
    "num1 = num_itr + num"
   ]
  },
  {
   "cell_type": "code",
   "execution_count": 20,
   "id": "228b788a",
   "metadata": {},
   "outputs": [
    {
     "data": {
      "text/plain": [
       "str"
      ]
     },
     "execution_count": 20,
     "metadata": {},
     "output_type": "execute_result"
    }
   ],
   "source": [
    "type(num_str)"
   ]
  },
  {
   "cell_type": "code",
   "execution_count": 24,
   "id": "da2765d9",
   "metadata": {},
   "outputs": [
    {
     "name": "stdout",
     "output_type": "stream",
     "text": [
      "14\n"
     ]
    }
   ],
   "source": [
    "num1 = num_itr + num\n",
    "print(num1)"
   ]
  },
  {
   "cell_type": "code",
   "execution_count": 25,
   "id": "9ffa34fc",
   "metadata": {},
   "outputs": [],
   "source": [
    "import os"
   ]
  },
  {
   "cell_type": "code",
   "execution_count": 26,
   "id": "a2f07029",
   "metadata": {},
   "outputs": [],
   "source": [
    "os.chdir('H:\\Data Analyst')"
   ]
  },
  {
   "cell_type": "code",
   "execution_count": 27,
   "id": "c6317269",
   "metadata": {},
   "outputs": [
    {
     "name": "stdout",
     "output_type": "stream",
     "text": [
      "H:\\Data Analyst\n"
     ]
    }
   ],
   "source": [
    "notebook_path = os.getcwd()\n",
    "print(notebook_path)"
   ]
  },
  {
   "cell_type": "code",
   "execution_count": 28,
   "id": "cc25ec78",
   "metadata": {},
   "outputs": [],
   "source": [
    "%notebook \"H:\\Data Analyst\\Python_Draft.ipynb\" "
   ]
  },
  {
   "cell_type": "code",
   "execution_count": 35,
   "id": "6f63c8e1",
   "metadata": {},
   "outputs": [
    {
     "name": "stdout",
     "output_type": "stream",
     "text": [
      "Enter weight in Kg: 85\n"
     ]
    }
   ],
   "source": [
    "weight = int(input(\"Enter weight in Kg: \"))"
   ]
  },
  {
   "cell_type": "code",
   "execution_count": 30,
   "id": "670534cf",
   "metadata": {},
   "outputs": [
    {
     "name": "stdout",
     "output_type": "stream",
     "text": [
      "85\n"
     ]
    }
   ],
   "source": [
    "print(weight)"
   ]
  },
  {
   "cell_type": "code",
   "execution_count": 37,
   "id": "ba3228f2",
   "metadata": {},
   "outputs": [
    {
     "name": "stdout",
     "output_type": "stream",
     "text": [
      "Enter your height in meters: 1.8034\n"
     ]
    }
   ],
   "source": [
    "height = float(input(\"Enter your height in meters: \"))"
   ]
  },
  {
   "cell_type": "code",
   "execution_count": 38,
   "id": "75aa3ffa",
   "metadata": {},
   "outputs": [
    {
     "name": "stdout",
     "output_type": "stream",
     "text": [
      "1.8034\n"
     ]
    }
   ],
   "source": [
    "print(height)"
   ]
  },
  {
   "cell_type": "code",
   "execution_count": 34,
   "id": "4103cbc8",
   "metadata": {},
   "outputs": [
    {
     "data": {
      "text/plain": [
       "str"
      ]
     },
     "execution_count": 34,
     "metadata": {},
     "output_type": "execute_result"
    }
   ],
   "source": [
    "type(height)"
   ]
  },
  {
   "cell_type": "code",
   "execution_count": 59,
   "id": "00f79cde",
   "metadata": {},
   "outputs": [
    {
     "name": "stdout",
     "output_type": "stream",
     "text": [
      "Enter weight in Kg: 85\n",
      "Enter your height in cm: 180.34\n",
      "26.14\n",
      "You are Overweight\n"
     ]
    }
   ],
   "source": [
    "weight = int(input(\"Enter weight in Kg: \"))\n",
    "height = float(input(\"Enter your height in cm: \"))\n",
    "BMI =round((weight/(height*height))*10000,2)\n",
    "print(BMI)\n",
    "if BMI>0:\n",
    "    if(BMI <18.5):\n",
    "        print(\"You are Underweight\")\n",
    "    elif (BMI <=24.9):\n",
    "        print(\"You are Normal weight\")\n",
    "    elif (BMI <=29.9):\n",
    "        print(\"You are Overweight\")\n",
    "    else:\n",
    "        print(\"You are Obese\")\n",
    "else:\n",
    "    print(\"Enter valid input\")"
   ]
  },
  {
   "cell_type": "code",
   "execution_count": null,
   "id": "dc322357",
   "metadata": {},
   "outputs": [],
   "source": []
  }
 ],
 "metadata": {
  "kernelspec": {
   "display_name": "Python 3 (ipykernel)",
   "language": "python",
   "name": "python3"
  },
  "language_info": {
   "codemirror_mode": {
    "name": "ipython",
    "version": 3
   },
   "file_extension": ".py",
   "mimetype": "text/x-python",
   "name": "python",
   "nbconvert_exporter": "python",
   "pygments_lexer": "ipython3",
   "version": "3.11.5"
  }
 },
 "nbformat": 4,
 "nbformat_minor": 5
}
