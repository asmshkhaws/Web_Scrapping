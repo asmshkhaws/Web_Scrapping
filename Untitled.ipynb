{
 "cells": [
  {
   "cell_type": "code",
   "execution_count": 2,
   "id": "3ed7209b",
   "metadata": {},
   "outputs": [
    {
     "data": {
      "text/plain": [
       "56"
      ]
     },
     "execution_count": 2,
     "metadata": {},
     "output_type": "execute_result"
    }
   ],
   "source": [
    "import pandas as pd \n",
    "import numpy as np \n",
    "\n",
    "dfs = pd.read_html('https://en.wikipedia.org/wiki/Demographics_of_India') \n",
    "len(dfs) \n"
   ]
  },
  {
   "cell_type": "code",
   "execution_count": null,
   "id": "789ddc32",
   "metadata": {},
   "outputs": [],
   "source": [
    "my_table = pd.read_html('https://en.wikipedia.org/wiki/Demographics_of_India', \n",
    "        match='Population distribution by states/union territories') \n",
    "my_table[1]"
   ]
  },
  {
   "cell_type": "code",
   "execution_count": null,
   "id": "32581dad",
   "metadata": {},
   "outputs": [],
   "source": []
  }
 ],
 "metadata": {
  "kernelspec": {
   "display_name": "Python 3 (ipykernel)",
   "language": "python",
   "name": "python3"
  },
  "language_info": {
   "codemirror_mode": {
    "name": "ipython",
    "version": 3
   },
   "file_extension": ".py",
   "mimetype": "text/x-python",
   "name": "python",
   "nbconvert_exporter": "python",
   "pygments_lexer": "ipython3",
   "version": "3.11.5"
  }
 },
 "nbformat": 4,
 "nbformat_minor": 5
}
