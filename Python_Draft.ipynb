{
 "cells": [
  {
   "cell_type": "code",
   "execution_count": 3,
   "id": "b1f9b162",
   "metadata": {},
   "outputs": [],
   "source": [
    "args_tuple=(5,9,6,2,3,1)\n",
    "def num_args(*number):\n",
    "    print(number[0]*number[1])"
   ]
  },
  {
   "cell_type": "code",
   "execution_count": 6,
   "id": "6cd990d8",
   "metadata": {},
   "outputs": [
    {
     "name": "stdout",
     "output_type": "stream",
     "text": [
      "45\n"
     ]
    }
   ],
   "source": [
    "num_args(*args_tuple)"
   ]
  },
  {
   "cell_type": "markdown",
   "id": "dff4f293",
   "metadata": {},
   "source": [
    "num_itr = 7"
   ]
  },
  {
   "cell_type": "code",
   "execution_count": 7,
   "id": "c1c33862",
   "metadata": {},
   "outputs": [],
   "source": [
    "num_itr = 7"
   ]
  },
  {
   "cell_type": "code",
   "execution_count": 12,
   "id": "9ab62a57",
   "metadata": {},
   "outputs": [],
   "source": [
    "num_str = '7'"
   ]
  },
  {
   "cell_type": "code",
   "execution_count": 18,
   "id": "d9d09af9",
   "metadata": {},
   "outputs": [
    {
     "ename": "TypeError",
     "evalue": "unsupported operand type(s) for +: 'int' and 'str'",
     "output_type": "error",
     "traceback": [
      "\u001b[1;31m---------------------------------------------------------------------------\u001b[0m",
      "\u001b[1;31mTypeError\u001b[0m                                 Traceback (most recent call last)",
      "Cell \u001b[1;32mIn[18], line 1\u001b[0m\n\u001b[1;32m----> 1\u001b[0m num \u001b[38;5;241m=\u001b[39m num_itr \u001b[38;5;241m+\u001b[39m num_str\n",
      "\u001b[1;31mTypeError\u001b[0m: unsupported operand type(s) for +: 'int' and 'str'"
     ]
    }
   ],
   "source": [
    "num = num_itr + num_str"
   ]
  },
  {
   "cell_type": "code",
   "execution_count": 21,
   "id": "7ed587d3",
   "metadata": {},
   "outputs": [],
   "source": [
    "num=int(num_str)"
   ]
  },
  {
   "cell_type": "code",
   "execution_count": 22,
   "id": "90d2d9e2",
   "metadata": {},
   "outputs": [],
   "source": [
    "num1 = num_itr + num"
   ]
  },
  {
   "cell_type": "code",
   "execution_count": 20,
   "id": "435d08bd",
   "metadata": {},
   "outputs": [
    {
     "data": {
      "text/plain": [
       "str"
      ]
     },
     "execution_count": 20,
     "metadata": {},
     "output_type": "execute_result"
    }
   ],
   "source": [
    "type(num_str)"
   ]
  },
  {
   "cell_type": "code",
   "execution_count": 24,
   "id": "a8ba2468",
   "metadata": {},
   "outputs": [
    {
     "name": "stdout",
     "output_type": "stream",
     "text": [
      "14\n"
     ]
    }
   ],
   "source": [
    "num1 = num_itr + num\n",
    "print(num1)"
   ]
  },
  {
   "cell_type": "code",
   "execution_count": 25,
   "id": "1dc76ea1",
   "metadata": {},
   "outputs": [],
   "source": [
    "import os"
   ]
  },
  {
   "cell_type": "code",
   "execution_count": 26,
   "id": "767f3c21",
   "metadata": {},
   "outputs": [],
   "source": [
    "os.chdir('H:\\Data Analyst')"
   ]
  },
  {
   "cell_type": "code",
   "execution_count": 27,
   "id": "c0ec7d7d",
   "metadata": {},
   "outputs": [
    {
     "name": "stdout",
     "output_type": "stream",
     "text": [
      "H:\\Data Analyst\n"
     ]
    }
   ],
   "source": [
    "notebook_path = os.getcwd()\n",
    "print(notebook_path)"
   ]
  },
  {
   "cell_type": "code",
   "execution_count": 28,
   "id": "16a0aad4",
   "metadata": {},
   "outputs": [],
   "source": [
    "%notebook \"H:\\Data Analyst\\Python_Draft.ipynb\" "
   ]
  },
  {
   "cell_type": "code",
   "execution_count": null,
   "id": "71bd43d2",
   "metadata": {},
   "outputs": [],
   "source": []
  }
 ],
 "metadata": {
  "kernelspec": {
   "display_name": "Python 3 (ipykernel)",
   "language": "python",
   "name": "python3"
  },
  "language_info": {
   "codemirror_mode": {
    "name": "ipython",
    "version": 3
   },
   "file_extension": ".py",
   "mimetype": "text/x-python",
   "name": "python",
   "nbconvert_exporter": "python",
   "pygments_lexer": "ipython3",
   "version": "3.11.5"
  }
 },
 "nbformat": 4,
 "nbformat_minor": 5
}
